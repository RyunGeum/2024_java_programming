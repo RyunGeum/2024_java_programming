{
  "cells": [
    {
      "cell_type": "code",
      "source": [
        "# pip 버전 다운그레이드 (의존성 충돌 방지용)\n",
        "!pip install -U pip==23.3.1\n",
        "\n",
        "# tflite model maker (nightly 버전: 최신 Colab 호환)\n",
        "!pip install -q tflite-model-maker-nightly\n"
      ],
      "metadata": {
        "id": "AdYK4_Lhvqw9"
      },
      "execution_count": null,
      "outputs": []
    },
    {
      "cell_type": "code",
      "source": [
        "# 중요! 이 셀 실행 후 수동으로 \"런타임 > 런타임 다시 시작\" 해야 합니다.\n",
        "print(\"✅ 설치 완료! 이제 '런타임 > 런타임 다시 시작' 을 클릭한 후 다음 셀부터 실행하세요.\")"
      ],
      "metadata": {
        "id": "AMbQUjvUvsQG"
      },
      "execution_count": null,
      "outputs": []
    },
    {
      "cell_type": "code",
      "source": [
        "import tensorflow as tf\n",
        "from tflite_model_maker import image_classifier\n",
        "from tflite_model_maker.image_classifier import DataLoader\n",
        "\n",
        "# 경고 메시지 줄이기\n",
        "tf.get_logger().setLevel('ERROR')\n"
      ],
      "metadata": {
        "id": "GCElbv8YvvW0"
      },
      "execution_count": null,
      "outputs": []
    },
    {
      "cell_type": "code",
      "source": [
        "# 꽃 사진 데이터셋 다운로드 및 로딩\n",
        "data_path = tf.keras.utils.get_file(\n",
        "    'flower_photos',\n",
        "    'https://storage.googleapis.com/download.tensorflow.org/example_images/flower_photos.tgz',\n",
        "    untar=True\n",
        ")\n",
        "\n",
        "data = DataLoader.from_folder(data_path)\n",
        "train_data, test_data = data.split(0.9)"
      ],
      "metadata": {
        "id": "FAxhORJjvwW2"
      },
      "execution_count": null,
      "outputs": []
    },
    {
      "cell_type": "code",
      "source": [
        "# 모델 학습 (기본 설정: MobileNetV2, 5 epoch)\n",
        "model = image_classifier.create(train_data, epochs=5)\n"
      ],
      "metadata": {
        "id": "d5PKcrPFvxiW"
      },
      "execution_count": null,
      "outputs": []
    },
    {
      "cell_type": "code",
      "source": [
        "# 테스트 데이터셋으로 모델 평가\n",
        "loss, accuracy = model.evaluate(test_data)\n",
        "print(f\"✅ Test Accuracy: {accuracy:.2%}\")\n"
      ],
      "metadata": {
        "id": "TBy9ZVlMvywN"
      },
      "execution_count": null,
      "outputs": []
    },
    {
      "cell_type": "code",
      "source": [
        "# 모델 내보내기\n",
        "model.export(export_dir='/mm_flowers')\n",
        "\n",
        "# 디렉토리 확인\n",
        "!ls /mm_flowers\n"
      ],
      "metadata": {
        "id": "V0nuq8Auv0MD"
      },
      "execution_count": null,
      "outputs": []
    },
    {
      "cell_type": "code",
      "source": [
        "from google.colab import files\n",
        "\n",
        "# 내보낸 모델 다운로드\n",
        "files.download('/mm_flowers/model.tflite')\n",
        "files.download('/mm_flowers/labels.txt')\n"
      ],
      "metadata": {
        "id": "OF6W_r9-v1PQ"
      },
      "execution_count": null,
      "outputs": []
    },
    {
      "cell_type": "markdown",
      "metadata": {
        "id": "m86-Nh4pMHqY"
      },
      "source": [
        "This notebook has been moved [here](https://www.tensorflow.org/lite/tutorials/model_maker_image_classification)."
      ]
    }
  ],
  "metadata": {
    "accelerator": "GPU",
    "colab": {
      "name": "image_classification.ipynb",
      "provenance": []
    },
    "kernelspec": {
      "display_name": "Python 3",
      "name": "python3"
    }
  },
  "nbformat": 4,
  "nbformat_minor": 0
}